{
  "nbformat": 4,
  "nbformat_minor": 0,
  "metadata": {
    "colab": {
      "name": "Untitled1.ipynb",
      "provenance": [],
      "collapsed_sections": [],
      "authorship_tag": "ABX9TyPJ7N/JCX9CvRDKxnaQDKb4",
      "include_colab_link": true
    },
    "kernelspec": {
      "display_name": "Python 3",
      "name": "python3"
    }
  },
  "cells": [
    {
      "cell_type": "markdown",
      "metadata": {
        "id": "view-in-github",
        "colab_type": "text"
      },
      "source": [
        "<a href=\"https://colab.research.google.com/github/LarryGamer/ComputerAlg/blob/main/First.ipynb\" target=\"_parent\"><img src=\"https://colab.research.google.com/assets/colab-badge.svg\" alt=\"Open In Colab\"/></a>"
      ]
    },
    {
      "cell_type": "code",
      "metadata": {
        "id": "IceeIGTIEHVe"
      },
      "source": [
        "def check(x):\n",
        "  if isinstance(x, int):\n",
        "    return x, 1\n",
        "    return x.a, x.b\n",
        "class Rational:\n",
        "  def __init__(self, a, b = 1):\n",
        "    self.a = a\n",
        "    self.b = b\n",
        "  def normalize(self):\n",
        "    if self.b<0:\n",
        "     self.a*=-1\n",
        "     self.b*=-1\n",
        "  def __str__(self):\n",
        "    return str(self.a) + \"/\" + str(self.b)\n",
        "  def __add__(self, x):\n",
        "    c, d = check(x)\n",
        "    return Rational(self.a * d + self.b * c, self.b * d)\n",
        "  def __truediv__(self, x):\n",
        "    c, d = check(x)\n",
        "    return Rational(self.a * d, self.b * c)\n",
        "  def __mul__(self, x):\n",
        "    c, d = check(x)\n",
        "    return Rational(self.a * c, self.b * d)\n",
        "  def __sub__(self, x):\n",
        "    c, d = check(x)\n",
        "    return Rational(self.a * d - self.b * c, self.b * d)\n",
        "  def __lt__(self, x): \n",
        "    c, d = check(self, x)\n",
        "    return self.a * d < self.b * c\n",
        "  def __le__(self, x): \n",
        "    c, d = check(x)\n",
        "    return self.a * d <= self.b * c\n",
        "  def __gt__(self, x): \n",
        "    c, d = check(x)\n",
        "    return self.a * d > self.b * c\n",
        "  def __ge__(self, x): \n",
        "    c, d = check(x)\n",
        "    return self.a * d >= self.b * c\n",
        "  def __eq__(self, x): \n",
        "    c, d = check(x)\n",
        "    return self.a * d == self.b * c\n",
        "  def __ne__(self, x):\n",
        "    c, d = check(x)\n",
        "    return self.a * d != self.b * c\n",
        "  def evalf (self):\n",
        "    return self.a/self.b\n",
        "  def mixed(self):\n",
        "    integer = self.a//self.b\n",
        "    return integer, Rational(self.a-integer*self.b, self.b)\n",
        "  def toLateX (self, mixed=True):\n",
        "    return \"\\dfrac{n}{m}\".format(n=self.a, m = self.b)"
      ],
      "execution_count": null,
      "outputs": []
    },
    {
      "cell_type": "code",
      "metadata": {
        "colab": {
          "base_uri": "https://localhost:8080/"
        },
        "id": "htIwfyP1IiU6",
        "outputId": "e7f321f9-62e0-4a10-bafe-2a0955d82b54"
      },
      "source": [
        "a = Rational(83,34)\n",
        "print(a)"
      ],
      "execution_count": null,
      "outputs": [
        {
          "output_type": "stream",
          "text": [
            "83/34\n"
          ],
          "name": "stdout"
        }
      ]
    }
  ]
}